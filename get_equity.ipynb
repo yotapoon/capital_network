{
 "cells": [
  {
   "cell_type": "markdown",
   "metadata": {},
   "source": [
    "# セットアップ"
   ]
  },
  {
   "cell_type": "code",
   "execution_count": 1,
   "metadata": {},
   "outputs": [],
   "source": [
    "from datetime import date,timedelta\n",
    "import pandas as pd\n",
    "import numpy as np\n",
    "import pickle\n",
    "with open(\"all_of_dic.pkl\", \"rb\") as file:\n",
    "    all_df_dic = pickle.load(file)"
   ]
  },
  {
   "cell_type": "code",
   "execution_count": 115,
   "metadata": {},
   "outputs": [
    {
     "name": "stdout",
     "output_type": "stream",
     "text": [
      "E34094 37083708/ 3708 / 3708 / 3708 3708/ 3708 / 3708 / 3708 / 3708 / 3708 / 3708/ 3708/ 3708/ 3708 / 37083708/ 3708 3708 / 3708 3708 3708 / 3708 / 3708 / 3708 / 3708 / 3708 / 37083708 / 37083708 / 3708 / 3708 3708/ 3708 / 3708/ 3708 / 3708 / 3708 / 3708 / 37083708 / 3708/ 3708 / 3708 3708 / 3708 / 3708/ 3708/ 3708 / 3708 / 3708 3708 / 3708 / 3708 / 3708 / 3708/ 3708 / 3708 / 3708/ 3708\r"
     ]
    }
   ],
   "source": [
    "df_accounting = pd.DataFrame(index = all_df_dic[\"有価証券報告書\"].keys(), columns = [\"company_name\", \"accounting\"])\n",
    "\n",
    "def get_unique_element1(df, col_name):\n",
    "    df_focus = df[df[\"tag\"] == col_name].copy()\n",
    "    if len(df_focus) == 1:\n",
    "        return df_focus[\"値\"].values[0]\n",
    "    elif len(df_focus) == 0:\n",
    "        return np.nan\n",
    "    else:\n",
    "        print(\"Error: 値がユニークでない\" + \" \" + col_name)\n",
    "        return \"Error: 値がユニークでない：\" + len(df_focus)\n",
    "    \n",
    "def get_unique_element2(df, col_name):\n",
    "    df_focus = df[df[\"tag\"] == col_name].copy()\n",
    "    val_return = np.nan\n",
    "    if \"CurrentYearInstant\" in df_focus[\"context\"].values:\n",
    "        val_return = df_focus[df_focus[\"context\"] == \"CurrentYearInstant\"][\"値\"].values[0]\n",
    "    elif \"CurrentYearInstant_NonConsolidatedMember\" in df_focus[\"context\"].values:\n",
    "        val_return = df_focus[df_focus[\"context\"] == \"CurrentYearInstant_NonConsolidatedMember\"][\"値\"].values[0]\n",
    "    return val_return\n",
    "\n",
    "for idx, code in enumerate(all_df_dic[\"有価証券報告書\"].keys()):\n",
    "    if idx % 10 == 0:\n",
    "        print(idx, end = \"\\r\")\n",
    "    df_idx = all_df_dic[\"有価証券報告書\"][code]\n",
    "    df_idx = df_idx[df_idx[\"提出日\"] == max(df_idx[\"提出日\"].unique())]\n",
    "    company_name = get_unique_element1(df_idx, \"FilerNameInJapaneseDEI\")\n",
    "    accounting = get_unique_element1(df_idx, \"AccountingStandardsDEI\")\n",
    "    \n",
    "    df_accounting.at[code, \"company_name\"] = company_name\n",
    "    df_accounting.at[code, \"accounting\"] = accounting"
   ]
  },
  {
   "cell_type": "code",
   "execution_count": 53,
   "metadata": {},
   "outputs": [],
   "source": [
    "col_JGAAP = [\"ShareholdersEquity\", \"NetAssets\", \"SubscriptionRightsToShares\", \"NonControllingInterests\"]\n",
    "df_JGAAP = pd.DataFrame(index = df_accounting[df_accounting[\"accounting\"] == \"Japan GAAP\"].index, columns = col_JGAAP)\n",
    "\n",
    "col_IFRS = [\"EquityAttributableToOwnersOfParentIFRSSummaryOfBusinessResults\"]\n",
    "df_IFRS = pd.DataFrame(index = df_accounting[df_accounting[\"accounting\"] == \"IFRS\"].index, columns = col_IFRS)\n",
    "\n",
    "col_USGAAP = [\"EquityIncludingPortionAttributableToNonControllingInterestUSGAAPSummaryOfBusinessResults\"]\n",
    "df_USGAAP = pd.DataFrame(index = df_accounting[df_accounting[\"accounting\"] == \"US GAAP\"].index, columns = col_USGAAP)"
   ]
  },
  {
   "cell_type": "code",
   "execution_count": 116,
   "metadata": {},
   "outputs": [
    {
     "name": "stdout",
     "output_type": "stream",
     "text": [
      "3700\r"
     ]
    }
   ],
   "source": [
    "for idx, code in enumerate(all_df_dic[\"有価証券報告書\"].keys()):\n",
    "    if idx % 10 == 0:\n",
    "        print(idx, end = \"\\r\")\n",
    "    df_idx = all_df_dic[\"有価証券報告書\"][code]\n",
    "    df_idx = df_idx[df_idx[\"提出日\"] == max(df_idx[\"提出日\"].unique())]\n",
    "    accounting = get_unique_element1(df_idx, \"AccountingStandardsDEI\")\n",
    "    if accounting == \"Japan GAAP\":\n",
    "        for col in col_JGAAP:\n",
    "            element = get_unique_element2(df_idx, col)\n",
    "            df_JGAAP.at[code, col] = element\n",
    "    \n",
    "    if accounting == \"IFRS\":\n",
    "        for col in col_IFRS:\n",
    "            element = get_unique_element2(df_idx, col)\n",
    "            df_IFRS.at[code, col] = element\n",
    "    \n",
    "    if accounting == \"US GAAP\":\n",
    "        for col in col_USGAAP:\n",
    "            element = get_unique_element2(df_idx, col)\n",
    "            df_USGAAP.at[code, col] = element"
   ]
  },
  {
   "cell_type": "code",
   "execution_count": 120,
   "metadata": {},
   "outputs": [
    {
     "data": {
      "text/plain": [
       "ShareholdersEquity               0\n",
       "NetAssets                        0\n",
       "SubscriptionRightsToShares    2436\n",
       "NonControllingInterests       1770\n",
       "dtype: int64"
      ]
     },
     "execution_count": 120,
     "metadata": {},
     "output_type": "execute_result"
    }
   ],
   "source": [
    "df_JGAAP.isnull().sum()"
   ]
  },
  {
   "cell_type": "code",
   "execution_count": 121,
   "metadata": {},
   "outputs": [
    {
     "data": {
      "text/plain": [
       "EquityAttributableToOwnersOfParentIFRSSummaryOfBusinessResults    9\n",
       "dtype: int64"
      ]
     },
     "execution_count": 121,
     "metadata": {},
     "output_type": "execute_result"
    }
   ],
   "source": [
    "df_IFRS.isnull().sum()"
   ]
  },
  {
   "cell_type": "code",
   "execution_count": 122,
   "metadata": {},
   "outputs": [
    {
     "data": {
      "text/plain": [
       "EquityIncludingPortionAttributableToNonControllingInterestUSGAAPSummaryOfBusinessResults    5\n",
       "dtype: int64"
      ]
     },
     "execution_count": 122,
     "metadata": {},
     "output_type": "execute_result"
    }
   ],
   "source": [
    "df_USGAAP.isnull().sum()"
   ]
  },
  {
   "cell_type": "code",
   "execution_count": 129,
   "metadata": {},
   "outputs": [],
   "source": [
    "df_JGAAP.fillna({\"SubscriptionRightsToShares\":0.0, \"NonControllingInterests\":0.0}, inplace = True)\n",
    "df_JGAAP[\"EQUITY\"] = df_JGAAP[\"NetAssets\"] - df_JGAAP[\"SubscriptionRightsToShares\"] - df_JGAAP[\"NonControllingInterests\"]\n",
    "df_IFRS.rename(columns = {\"EquityAttributableToOwnersOfParentIFRSSummaryOfBusinessResults\": \"EQUITY\"}, inplace = True)\n",
    "df_USGAAP.rename(columns = {\"EquityIncludingPortionAttributableToNonControllingInterestUSGAAPSummaryOfBusinessResults\": \"EQUITY\"}, inplace = True)"
   ]
  },
  {
   "cell_type": "code",
   "execution_count": 133,
   "metadata": {},
   "outputs": [],
   "source": [
    "df_EQUITY = pd.concat([df_JGAAP, df_IFRS, df_USGAAP], join = \"inner\")\n",
    "df_EQUITY.to_excel(\"equity_20220130.xlsx\")"
   ]
  },
  {
   "cell_type": "markdown",
   "metadata": {},
   "source": [
    "# もう少しうまくデータを取り出せるかも"
   ]
  },
  {
   "cell_type": "code",
   "execution_count": null,
   "metadata": {},
   "outputs": [],
   "source": []
  },
  {
   "cell_type": "code",
   "execution_count": null,
   "metadata": {},
   "outputs": [],
   "source": []
  },
  {
   "cell_type": "code",
   "execution_count": null,
   "metadata": {},
   "outputs": [],
   "source": []
  },
  {
   "cell_type": "code",
   "execution_count": null,
   "metadata": {},
   "outputs": [],
   "source": []
  },
  {
   "cell_type": "code",
   "execution_count": null,
   "metadata": {},
   "outputs": [],
   "source": []
  },
  {
   "cell_type": "code",
   "execution_count": 46,
   "metadata": {},
   "outputs": [
    {
     "ename": "TypeError",
     "evalue": "unsupported operand type(s) for -: 'str' and 'str'",
     "output_type": "error",
     "traceback": [
      "\u001b[1;31m---------------------------------------------------------------------------\u001b[0m",
      "\u001b[1;31mTypeError\u001b[0m                                 Traceback (most recent call last)",
      "\u001b[1;32m<ipython-input-46-f17985861f48>\u001b[0m in \u001b[0;36m<module>\u001b[1;34m\u001b[0m\n\u001b[0;32m      1\u001b[0m \u001b[0mdf_JGAAP\u001b[0m\u001b[1;33m.\u001b[0m\u001b[0misnull\u001b[0m\u001b[1;33m(\u001b[0m\u001b[1;33m)\u001b[0m\u001b[1;33m.\u001b[0m\u001b[0msum\u001b[0m\u001b[1;33m(\u001b[0m\u001b[1;33m)\u001b[0m\u001b[1;33m\u001b[0m\u001b[1;33m\u001b[0m\u001b[0m\n\u001b[1;32m----> 2\u001b[1;33m \u001b[0mdf_JGAAP\u001b[0m\u001b[1;33m[\u001b[0m\u001b[1;34m\"Equity\"\u001b[0m\u001b[1;33m]\u001b[0m \u001b[1;33m=\u001b[0m \u001b[0mdf_JGAAP\u001b[0m\u001b[1;33m[\u001b[0m\u001b[1;34m\"NetAssets\"\u001b[0m\u001b[1;33m]\u001b[0m\u001b[1;33m.\u001b[0m\u001b[0mvalues\u001b[0m \u001b[1;33m-\u001b[0m \u001b[0mdf_JGAAP\u001b[0m\u001b[1;33m[\u001b[0m\u001b[1;34m\"SubscriptionRightsToShares\"\u001b[0m\u001b[1;33m]\u001b[0m\u001b[1;33m.\u001b[0m\u001b[0mvalues\u001b[0m \u001b[1;33m-\u001b[0m \u001b[0mdf_JGAAP\u001b[0m\u001b[1;33m[\u001b[0m\u001b[1;34m\"NonControllingInterests\"\u001b[0m\u001b[1;33m]\u001b[0m\u001b[1;33m.\u001b[0m\u001b[0mvalues\u001b[0m\u001b[1;33m\u001b[0m\u001b[1;33m\u001b[0m\u001b[0m\n\u001b[0m\u001b[0;32m      3\u001b[0m \u001b[0mdf_JGAAP\u001b[0m\u001b[1;33m\u001b[0m\u001b[1;33m\u001b[0m\u001b[0m\n",
      "\u001b[1;31mTypeError\u001b[0m: unsupported operand type(s) for -: 'str' and 'str'"
     ]
    }
   ],
   "source": [
    "df_JGAAP.isnull().sum()\n",
    "df_JGAAP[\"Equity\"] = df_JGAAP[\"NetAssets\"].values - df_JGAAP[\"SubscriptionRightsToShares\"].values - df_JGAAP[\"NonControllingInterests\"].values\n",
    "df_JGAAP"
   ]
  },
  {
   "cell_type": "code",
   "execution_count": 76,
   "metadata": {},
   "outputs": [
    {
     "ename": "AttributeError",
     "evalue": "Can only use .str accessor with string values!",
     "output_type": "error",
     "traceback": [
      "\u001b[1;31m---------------------------------------------------------------------------\u001b[0m",
      "\u001b[1;31mAttributeError\u001b[0m                            Traceback (most recent call last)",
      "\u001b[1;32m<ipython-input-76-fbd629ebae5e>\u001b[0m in \u001b[0;36m<module>\u001b[1;34m\u001b[0m\n\u001b[1;32m----> 1\u001b[1;33m \u001b[0mdf_USGAAP\u001b[0m\u001b[1;33m[\u001b[0m\u001b[1;34m\"EquityIncludingPortionAttributableToNonControllingInterestUSGAAPSummaryOfBusinessResults\"\u001b[0m\u001b[1;33m]\u001b[0m\u001b[1;33m.\u001b[0m\u001b[0mstr\u001b[0m\u001b[1;33m.\u001b[0m\u001b[0mcontains\u001b[0m\u001b[1;33m(\u001b[0m\u001b[1;34m\"Error\"\u001b[0m\u001b[1;33m)\u001b[0m\u001b[1;33m\u001b[0m\u001b[1;33m\u001b[0m\u001b[0m\n\u001b[0m",
      "\u001b[1;32m~\\anaconda3\\lib\\site-packages\\pandas\\core\\generic.py\u001b[0m in \u001b[0;36m__getattr__\u001b[1;34m(self, name)\u001b[0m\n\u001b[0;32m   5133\u001b[0m             \u001b[1;32mor\u001b[0m \u001b[0mname\u001b[0m \u001b[1;32min\u001b[0m \u001b[0mself\u001b[0m\u001b[1;33m.\u001b[0m\u001b[0m_accessors\u001b[0m\u001b[1;33m\u001b[0m\u001b[1;33m\u001b[0m\u001b[0m\n\u001b[0;32m   5134\u001b[0m         ):\n\u001b[1;32m-> 5135\u001b[1;33m             \u001b[1;32mreturn\u001b[0m \u001b[0mobject\u001b[0m\u001b[1;33m.\u001b[0m\u001b[0m__getattribute__\u001b[0m\u001b[1;33m(\u001b[0m\u001b[0mself\u001b[0m\u001b[1;33m,\u001b[0m \u001b[0mname\u001b[0m\u001b[1;33m)\u001b[0m\u001b[1;33m\u001b[0m\u001b[1;33m\u001b[0m\u001b[0m\n\u001b[0m\u001b[0;32m   5136\u001b[0m         \u001b[1;32melse\u001b[0m\u001b[1;33m:\u001b[0m\u001b[1;33m\u001b[0m\u001b[1;33m\u001b[0m\u001b[0m\n\u001b[0;32m   5137\u001b[0m             \u001b[1;32mif\u001b[0m \u001b[0mself\u001b[0m\u001b[1;33m.\u001b[0m\u001b[0m_info_axis\u001b[0m\u001b[1;33m.\u001b[0m\u001b[0m_can_hold_identifiers_and_holds_name\u001b[0m\u001b[1;33m(\u001b[0m\u001b[0mname\u001b[0m\u001b[1;33m)\u001b[0m\u001b[1;33m:\u001b[0m\u001b[1;33m\u001b[0m\u001b[1;33m\u001b[0m\u001b[0m\n",
      "\u001b[1;32m~\\anaconda3\\lib\\site-packages\\pandas\\core\\accessor.py\u001b[0m in \u001b[0;36m__get__\u001b[1;34m(self, obj, cls)\u001b[0m\n\u001b[0;32m    185\u001b[0m             \u001b[1;31m# we're accessing the attribute of the class, i.e., Dataset.geo\u001b[0m\u001b[1;33m\u001b[0m\u001b[1;33m\u001b[0m\u001b[1;33m\u001b[0m\u001b[0m\n\u001b[0;32m    186\u001b[0m             \u001b[1;32mreturn\u001b[0m \u001b[0mself\u001b[0m\u001b[1;33m.\u001b[0m\u001b[0m_accessor\u001b[0m\u001b[1;33m\u001b[0m\u001b[1;33m\u001b[0m\u001b[0m\n\u001b[1;32m--> 187\u001b[1;33m         \u001b[0maccessor_obj\u001b[0m \u001b[1;33m=\u001b[0m \u001b[0mself\u001b[0m\u001b[1;33m.\u001b[0m\u001b[0m_accessor\u001b[0m\u001b[1;33m(\u001b[0m\u001b[0mobj\u001b[0m\u001b[1;33m)\u001b[0m\u001b[1;33m\u001b[0m\u001b[1;33m\u001b[0m\u001b[0m\n\u001b[0m\u001b[0;32m    188\u001b[0m         \u001b[1;31m# Replace the property with the accessor object. Inspired by:\u001b[0m\u001b[1;33m\u001b[0m\u001b[1;33m\u001b[0m\u001b[1;33m\u001b[0m\u001b[0m\n\u001b[0;32m    189\u001b[0m         \u001b[1;31m# https://www.pydanny.com/cached-property.html\u001b[0m\u001b[1;33m\u001b[0m\u001b[1;33m\u001b[0m\u001b[1;33m\u001b[0m\u001b[0m\n",
      "\u001b[1;32m~\\anaconda3\\lib\\site-packages\\pandas\\core\\strings.py\u001b[0m in \u001b[0;36m__init__\u001b[1;34m(self, data)\u001b[0m\n\u001b[0;32m   2098\u001b[0m \u001b[1;33m\u001b[0m\u001b[0m\n\u001b[0;32m   2099\u001b[0m     \u001b[1;32mdef\u001b[0m \u001b[0m__init__\u001b[0m\u001b[1;33m(\u001b[0m\u001b[0mself\u001b[0m\u001b[1;33m,\u001b[0m \u001b[0mdata\u001b[0m\u001b[1;33m)\u001b[0m\u001b[1;33m:\u001b[0m\u001b[1;33m\u001b[0m\u001b[1;33m\u001b[0m\u001b[0m\n\u001b[1;32m-> 2100\u001b[1;33m         \u001b[0mself\u001b[0m\u001b[1;33m.\u001b[0m\u001b[0m_inferred_dtype\u001b[0m \u001b[1;33m=\u001b[0m \u001b[0mself\u001b[0m\u001b[1;33m.\u001b[0m\u001b[0m_validate\u001b[0m\u001b[1;33m(\u001b[0m\u001b[0mdata\u001b[0m\u001b[1;33m)\u001b[0m\u001b[1;33m\u001b[0m\u001b[1;33m\u001b[0m\u001b[0m\n\u001b[0m\u001b[0;32m   2101\u001b[0m         \u001b[0mself\u001b[0m\u001b[1;33m.\u001b[0m\u001b[0m_is_categorical\u001b[0m \u001b[1;33m=\u001b[0m \u001b[0mis_categorical_dtype\u001b[0m\u001b[1;33m(\u001b[0m\u001b[0mdata\u001b[0m\u001b[1;33m.\u001b[0m\u001b[0mdtype\u001b[0m\u001b[1;33m)\u001b[0m\u001b[1;33m\u001b[0m\u001b[1;33m\u001b[0m\u001b[0m\n\u001b[0;32m   2102\u001b[0m         \u001b[0mself\u001b[0m\u001b[1;33m.\u001b[0m\u001b[0m_is_string\u001b[0m \u001b[1;33m=\u001b[0m \u001b[0mdata\u001b[0m\u001b[1;33m.\u001b[0m\u001b[0mdtype\u001b[0m\u001b[1;33m.\u001b[0m\u001b[0mname\u001b[0m \u001b[1;33m==\u001b[0m \u001b[1;34m\"string\"\u001b[0m\u001b[1;33m\u001b[0m\u001b[1;33m\u001b[0m\u001b[0m\n",
      "\u001b[1;32m~\\anaconda3\\lib\\site-packages\\pandas\\core\\strings.py\u001b[0m in \u001b[0;36m_validate\u001b[1;34m(data)\u001b[0m\n\u001b[0;32m   2155\u001b[0m \u001b[1;33m\u001b[0m\u001b[0m\n\u001b[0;32m   2156\u001b[0m         \u001b[1;32mif\u001b[0m \u001b[0minferred_dtype\u001b[0m \u001b[1;32mnot\u001b[0m \u001b[1;32min\u001b[0m \u001b[0mallowed_types\u001b[0m\u001b[1;33m:\u001b[0m\u001b[1;33m\u001b[0m\u001b[1;33m\u001b[0m\u001b[0m\n\u001b[1;32m-> 2157\u001b[1;33m             \u001b[1;32mraise\u001b[0m \u001b[0mAttributeError\u001b[0m\u001b[1;33m(\u001b[0m\u001b[1;34m\"Can only use .str accessor with string values!\"\u001b[0m\u001b[1;33m)\u001b[0m\u001b[1;33m\u001b[0m\u001b[1;33m\u001b[0m\u001b[0m\n\u001b[0m\u001b[0;32m   2158\u001b[0m         \u001b[1;32mreturn\u001b[0m \u001b[0minferred_dtype\u001b[0m\u001b[1;33m\u001b[0m\u001b[1;33m\u001b[0m\u001b[0m\n\u001b[0;32m   2159\u001b[0m \u001b[1;33m\u001b[0m\u001b[0m\n",
      "\u001b[1;31mAttributeError\u001b[0m: Can only use .str accessor with string values!"
     ]
    }
   ],
   "source": [
    "df_USGAAP[\"EquityIncludingPortionAttributableToNonControllingInterestUSGAAPSummaryOfBusinessResults\"].str.contains(\"Error\")"
   ]
  },
  {
   "cell_type": "code",
   "execution_count": 73,
   "metadata": {},
   "outputs": [
    {
     "data": {
      "text/html": [
       "<div>\n",
       "<style scoped>\n",
       "    .dataframe tbody tr th:only-of-type {\n",
       "        vertical-align: middle;\n",
       "    }\n",
       "\n",
       "    .dataframe tbody tr th {\n",
       "        vertical-align: top;\n",
       "    }\n",
       "\n",
       "    .dataframe thead th {\n",
       "        text-align: right;\n",
       "    }\n",
       "</style>\n",
       "<table border=\"1\" class=\"dataframe\">\n",
       "  <thead>\n",
       "    <tr style=\"text-align: right;\">\n",
       "      <th></th>\n",
       "      <th>ShareholdersEquity</th>\n",
       "      <th>NetAssets</th>\n",
       "      <th>SubscriptionRightsToShares</th>\n",
       "      <th>NonControllingInterests</th>\n",
       "    </tr>\n",
       "  </thead>\n",
       "  <tbody>\n",
       "    <tr>\n",
       "      <th>E03006</th>\n",
       "      <td>53798000000</td>\n",
       "      <td>53765000000</td>\n",
       "      <td>NaN</td>\n",
       "      <td>69000000</td>\n",
       "    </tr>\n",
       "    <tr>\n",
       "      <th>E03531</th>\n",
       "      <td>467615000000</td>\n",
       "      <td>490006000000</td>\n",
       "      <td>482000000</td>\n",
       "      <td>-4541000000</td>\n",
       "    </tr>\n",
       "    <tr>\n",
       "      <th>E03733</th>\n",
       "      <td>13768545000</td>\n",
       "      <td>13792158000</td>\n",
       "      <td>9529000</td>\n",
       "      <td>7345000</td>\n",
       "    </tr>\n",
       "    <tr>\n",
       "      <th>E34704</th>\n",
       "      <td>2223890000</td>\n",
       "      <td>2223890000</td>\n",
       "      <td>NaN</td>\n",
       "      <td>NaN</td>\n",
       "    </tr>\n",
       "    <tr>\n",
       "      <th>E03439</th>\n",
       "      <td>NaN</td>\n",
       "      <td>NaN</td>\n",
       "      <td>NaN</td>\n",
       "      <td>NaN</td>\n",
       "    </tr>\n",
       "    <tr>\n",
       "      <th>...</th>\n",
       "      <td>...</td>\n",
       "      <td>...</td>\n",
       "      <td>...</td>\n",
       "      <td>...</td>\n",
       "    </tr>\n",
       "    <tr>\n",
       "      <th>E05328</th>\n",
       "      <td>4214097000</td>\n",
       "      <td>4159290000</td>\n",
       "      <td>141954000</td>\n",
       "      <td>12497000</td>\n",
       "    </tr>\n",
       "    <tr>\n",
       "      <th>E02932</th>\n",
       "      <td>6297295000</td>\n",
       "      <td>6442031000</td>\n",
       "      <td>NaN</td>\n",
       "      <td>29396000</td>\n",
       "    </tr>\n",
       "    <tr>\n",
       "      <th>E03460</th>\n",
       "      <td>NaN</td>\n",
       "      <td>NaN</td>\n",
       "      <td>NaN</td>\n",
       "      <td>NaN</td>\n",
       "    </tr>\n",
       "    <tr>\n",
       "      <th>E05725</th>\n",
       "      <td>55651000000</td>\n",
       "      <td>55507000000</td>\n",
       "      <td>3000000</td>\n",
       "      <td>70000000</td>\n",
       "    </tr>\n",
       "    <tr>\n",
       "      <th>E34094</th>\n",
       "      <td>1313054000</td>\n",
       "      <td>1397584000</td>\n",
       "      <td>78718000</td>\n",
       "      <td>6640000</td>\n",
       "    </tr>\n",
       "  </tbody>\n",
       "</table>\n",
       "<p>3469 rows × 4 columns</p>\n",
       "</div>"
      ],
      "text/plain": [
       "       ShareholdersEquity     NetAssets SubscriptionRightsToShares  \\\n",
       "E03006        53798000000   53765000000                        NaN   \n",
       "E03531       467615000000  490006000000                  482000000   \n",
       "E03733        13768545000   13792158000                    9529000   \n",
       "E34704         2223890000    2223890000                        NaN   \n",
       "E03439                NaN           NaN                        NaN   \n",
       "...                   ...           ...                        ...   \n",
       "E05328         4214097000    4159290000                  141954000   \n",
       "E02932         6297295000    6442031000                        NaN   \n",
       "E03460                NaN           NaN                        NaN   \n",
       "E05725        55651000000   55507000000                    3000000   \n",
       "E34094         1313054000    1397584000                   78718000   \n",
       "\n",
       "       NonControllingInterests  \n",
       "E03006                69000000  \n",
       "E03531             -4541000000  \n",
       "E03733                 7345000  \n",
       "E34704                     NaN  \n",
       "E03439                     NaN  \n",
       "...                        ...  \n",
       "E05328                12497000  \n",
       "E02932                29396000  \n",
       "E03460                     NaN  \n",
       "E05725                70000000  \n",
       "E34094                 6640000  \n",
       "\n",
       "[3469 rows x 4 columns]"
      ]
     },
     "execution_count": 73,
     "metadata": {},
     "output_type": "execute_result"
    }
   ],
   "source": [
    "df_JGAAP"
   ]
  },
  {
   "cell_type": "code",
   "execution_count": 75,
   "metadata": {},
   "outputs": [
    {
     "data": {
      "text/plain": [
       "EquityAttributableToOwnersOfParentIFRSSummaryOfBusinessResults    9\n",
       "dtype: int64"
      ]
     },
     "execution_count": 75,
     "metadata": {},
     "output_type": "execute_result"
    }
   ],
   "source": [
    "df_IFRS.isnull().sum()"
   ]
  },
  {
   "cell_type": "code",
   "execution_count": 66,
   "metadata": {},
   "outputs": [
    {
     "data": {
      "text/html": [
       "<div>\n",
       "<style scoped>\n",
       "    .dataframe tbody tr th:only-of-type {\n",
       "        vertical-align: middle;\n",
       "    }\n",
       "\n",
       "    .dataframe tbody tr th {\n",
       "        vertical-align: top;\n",
       "    }\n",
       "\n",
       "    .dataframe thead th {\n",
       "        text-align: right;\n",
       "    }\n",
       "</style>\n",
       "<table border=\"1\" class=\"dataframe\">\n",
       "  <thead>\n",
       "    <tr style=\"text-align: right;\">\n",
       "      <th></th>\n",
       "      <th>version</th>\n",
       "      <th>提出日</th>\n",
       "      <th>提出回数</th>\n",
       "      <th>報告対象期間期末日</th>\n",
       "      <th>追番</th>\n",
       "      <th>第N期</th>\n",
       "      <th>名前空間接頭辞</th>\n",
       "      <th>tag</th>\n",
       "      <th>id</th>\n",
       "      <th>context</th>\n",
       "      <th>開始日</th>\n",
       "      <th>終了日</th>\n",
       "      <th>期末日</th>\n",
       "      <th>連結</th>\n",
       "      <th>値</th>\n",
       "    </tr>\n",
       "  </thead>\n",
       "  <tbody>\n",
       "  </tbody>\n",
       "</table>\n",
       "</div>"
      ],
      "text/plain": [
       "Empty DataFrame\n",
       "Columns: [version, 提出日, 提出回数, 報告対象期間期末日, 追番, 第N期, 名前空間接頭辞, tag, id, context, 開始日, 終了日, 期末日, 連結, 値]\n",
       "Index: []"
      ]
     },
     "execution_count": 66,
     "metadata": {},
     "output_type": "execute_result"
    }
   ],
   "source": [
    "code = \"E03439\"\n",
    "df_idx = all_df_dic[\"有価証券報告書\"][code]\n",
    "df_idx = df_idx[df_idx[\"提出日\"] == max(df_idx[\"提出日\"].unique())]\n",
    "accounting = get_unique_element(df_idx, \"AccountingStandardsDEI\")\n",
    "df_idx = df_idx[df_idx[\"context\"] == \"CurrentYearInstant\"]\n",
    "\n",
    "col = col_JGAAP[2]\n",
    "df_idx_col = df_idx[df_idx[\"tag\"] == col]\n",
    "df_idx_col\n"
   ]
  },
  {
   "cell_type": "code",
   "execution_count": 59,
   "metadata": {},
   "outputs": [
    {
     "name": "stdout",
     "output_type": "stream",
     "text": [
      "Japan GAAP\n"
     ]
    }
   ],
   "source": [
    "print(accounting)"
   ]
  },
  {
   "cell_type": "code",
   "execution_count": 77,
   "metadata": {},
   "outputs": [],
   "source": [
    "def get_unique_element(df, col_name):\n",
    "    df_focus = df[df[\"tag\"] == col_name].copy()\n",
    "    if len(df_focus) == 1:\n",
    "        return df_focus[\"値\"].values[0]\n",
    "    elif len(df_focus) == 0:\n",
    "        return np.nan\n",
    "    else:\n",
    "        print(\"Error: 値がユニークでない\" + \" \" + col_name)\n",
    "        return \"Error: 値がユニークでない：\" + len(df_focus)"
   ]
  },
  {
   "cell_type": "code",
   "execution_count": null,
   "metadata": {},
   "outputs": [],
   "source": []
  },
  {
   "cell_type": "code",
   "execution_count": null,
   "metadata": {},
   "outputs": [],
   "source": []
  },
  {
   "cell_type": "code",
   "execution_count": 31,
   "metadata": {},
   "outputs": [
    {
     "data": {
      "text/html": [
       "<div>\n",
       "<style scoped>\n",
       "    .dataframe tbody tr th:only-of-type {\n",
       "        vertical-align: middle;\n",
       "    }\n",
       "\n",
       "    .dataframe tbody tr th {\n",
       "        vertical-align: top;\n",
       "    }\n",
       "\n",
       "    .dataframe thead th {\n",
       "        text-align: right;\n",
       "    }\n",
       "</style>\n",
       "<table border=\"1\" class=\"dataframe\">\n",
       "  <thead>\n",
       "    <tr style=\"text-align: right;\">\n",
       "      <th></th>\n",
       "      <th>accounting</th>\n",
       "    </tr>\n",
       "  </thead>\n",
       "  <tbody>\n",
       "    <tr>\n",
       "      <th>Japan GAAP</th>\n",
       "      <td>3469</td>\n",
       "    </tr>\n",
       "    <tr>\n",
       "      <th>IFRS</th>\n",
       "      <td>228</td>\n",
       "    </tr>\n",
       "    <tr>\n",
       "      <th>US GAAP</th>\n",
       "      <td>11</td>\n",
       "    </tr>\n",
       "  </tbody>\n",
       "</table>\n",
       "</div>"
      ],
      "text/plain": [
       "            accounting\n",
       "Japan GAAP        3469\n",
       "IFRS               228\n",
       "US GAAP             11"
      ]
     },
     "execution_count": 31,
     "metadata": {},
     "output_type": "execute_result"
    }
   ],
   "source": [
    "df_accounting[\"accounting\"].value_counts().to_frame()"
   ]
  },
  {
   "cell_type": "code",
   "execution_count": 33,
   "metadata": {},
   "outputs": [
    {
     "data": {
      "text/html": [
       "<div>\n",
       "<style scoped>\n",
       "    .dataframe tbody tr th:only-of-type {\n",
       "        vertical-align: middle;\n",
       "    }\n",
       "\n",
       "    .dataframe tbody tr th {\n",
       "        vertical-align: top;\n",
       "    }\n",
       "\n",
       "    .dataframe thead th {\n",
       "        text-align: right;\n",
       "    }\n",
       "</style>\n",
       "<table border=\"1\" class=\"dataframe\">\n",
       "  <thead>\n",
       "    <tr style=\"text-align: right;\">\n",
       "      <th></th>\n",
       "      <th>company_name</th>\n",
       "      <th>accounting</th>\n",
       "    </tr>\n",
       "  </thead>\n",
       "  <tbody>\n",
       "    <tr>\n",
       "      <th>E03006</th>\n",
       "      <td>あいホールディングス株式会社</td>\n",
       "      <td>Japan GAAP</td>\n",
       "    </tr>\n",
       "    <tr>\n",
       "      <th>E03531</th>\n",
       "      <td>株式会社あおぞら銀行</td>\n",
       "      <td>Japan GAAP</td>\n",
       "    </tr>\n",
       "    <tr>\n",
       "      <th>E03733</th>\n",
       "      <td>株式会社あかつき本社</td>\n",
       "      <td>Japan GAAP</td>\n",
       "    </tr>\n",
       "    <tr>\n",
       "      <th>E34704</th>\n",
       "      <td>株式会社あさくま</td>\n",
       "      <td>Japan GAAP</td>\n",
       "    </tr>\n",
       "    <tr>\n",
       "      <th>E03439</th>\n",
       "      <td>株式会社あさひ</td>\n",
       "      <td>Japan GAAP</td>\n",
       "    </tr>\n",
       "    <tr>\n",
       "      <th>...</th>\n",
       "      <td>...</td>\n",
       "      <td>...</td>\n",
       "    </tr>\n",
       "    <tr>\n",
       "      <th>E05328</th>\n",
       "      <td>株式会社YE DIGITAL</td>\n",
       "      <td>Japan GAAP</td>\n",
       "    </tr>\n",
       "    <tr>\n",
       "      <th>E02932</th>\n",
       "      <td>ＹＫＴ株式会社</td>\n",
       "      <td>Japan GAAP</td>\n",
       "    </tr>\n",
       "    <tr>\n",
       "      <th>E03460</th>\n",
       "      <td>株式会社ＺＯＡ</td>\n",
       "      <td>Japan GAAP</td>\n",
       "    </tr>\n",
       "    <tr>\n",
       "      <th>E05725</th>\n",
       "      <td>株式会社ZOZO</td>\n",
       "      <td>Japan GAAP</td>\n",
       "    </tr>\n",
       "    <tr>\n",
       "      <th>E34094</th>\n",
       "      <td>株式会社ＺＵＵ</td>\n",
       "      <td>Japan GAAP</td>\n",
       "    </tr>\n",
       "  </tbody>\n",
       "</table>\n",
       "<p>3469 rows × 2 columns</p>\n",
       "</div>"
      ],
      "text/plain": [
       "          company_name  accounting\n",
       "E03006  あいホールディングス株式会社  Japan GAAP\n",
       "E03531      株式会社あおぞら銀行  Japan GAAP\n",
       "E03733      株式会社あかつき本社  Japan GAAP\n",
       "E34704        株式会社あさくま  Japan GAAP\n",
       "E03439         株式会社あさひ  Japan GAAP\n",
       "...                ...         ...\n",
       "E05328  株式会社YE DIGITAL  Japan GAAP\n",
       "E02932         ＹＫＴ株式会社  Japan GAAP\n",
       "E03460         株式会社ＺＯＡ  Japan GAAP\n",
       "E05725        株式会社ZOZO  Japan GAAP\n",
       "E34094         株式会社ＺＵＵ  Japan GAAP\n",
       "\n",
       "[3469 rows x 2 columns]"
      ]
     },
     "execution_count": 33,
     "metadata": {},
     "output_type": "execute_result"
    }
   ],
   "source": [
    "df_accounting[df_accounting[\"accounting\"] == \"Japan GAAP\"]"
   ]
  },
  {
   "cell_type": "code",
   "execution_count": 34,
   "metadata": {},
   "outputs": [
    {
     "data": {
      "text/html": [
       "<div>\n",
       "<style scoped>\n",
       "    .dataframe tbody tr th:only-of-type {\n",
       "        vertical-align: middle;\n",
       "    }\n",
       "\n",
       "    .dataframe tbody tr th {\n",
       "        vertical-align: top;\n",
       "    }\n",
       "\n",
       "    .dataframe thead th {\n",
       "        text-align: right;\n",
       "    }\n",
       "</style>\n",
       "<table border=\"1\" class=\"dataframe\">\n",
       "  <thead>\n",
       "    <tr style=\"text-align: right;\">\n",
       "      <th></th>\n",
       "      <th>company_name</th>\n",
       "      <th>accounting</th>\n",
       "    </tr>\n",
       "  </thead>\n",
       "  <tbody>\n",
       "    <tr>\n",
       "      <th>E35495</th>\n",
       "      <td>株式会社きずなホールディングス</td>\n",
       "      <td>IFRS</td>\n",
       "    </tr>\n",
       "    <tr>\n",
       "      <th>E30047</th>\n",
       "      <td>株式会社じげん</td>\n",
       "      <td>IFRS</td>\n",
       "    </tr>\n",
       "    <tr>\n",
       "      <th>E03515</th>\n",
       "      <td>株式会社すかいらーくホールディングス</td>\n",
       "      <td>IFRS</td>\n",
       "    </tr>\n",
       "    <tr>\n",
       "      <th>E00981</th>\n",
       "      <td>そーせいグループ株式会社</td>\n",
       "      <td>IFRS</td>\n",
       "    </tr>\n",
       "    <tr>\n",
       "      <th>E01593</th>\n",
       "      <td>株式会社アイシン</td>\n",
       "      <td>IFRS</td>\n",
       "    </tr>\n",
       "    <tr>\n",
       "      <th>...</th>\n",
       "      <td>...</td>\n",
       "      <td>...</td>\n",
       "    </tr>\n",
       "    <tr>\n",
       "      <th>E04830</th>\n",
       "      <td>ＳＣＳＫ株式会社</td>\n",
       "      <td>IFRS</td>\n",
       "    </tr>\n",
       "    <tr>\n",
       "      <th>E02152</th>\n",
       "      <td>株式会社ＳＵＢＡＲＵ</td>\n",
       "      <td>IFRS</td>\n",
       "    </tr>\n",
       "    <tr>\n",
       "      <th>E01678</th>\n",
       "      <td>ＴＨＫ株式会社</td>\n",
       "      <td>IFRS</td>\n",
       "    </tr>\n",
       "    <tr>\n",
       "      <th>E02889</th>\n",
       "      <td>ＶＴホールディングス株式会社</td>\n",
       "      <td>IFRS</td>\n",
       "    </tr>\n",
       "    <tr>\n",
       "      <th>E05000</th>\n",
       "      <td>Ｚホールディングス株式会社</td>\n",
       "      <td>IFRS</td>\n",
       "    </tr>\n",
       "  </tbody>\n",
       "</table>\n",
       "<p>228 rows × 2 columns</p>\n",
       "</div>"
      ],
      "text/plain": [
       "              company_name accounting\n",
       "E35495     株式会社きずなホールディングス       IFRS\n",
       "E30047             株式会社じげん       IFRS\n",
       "E03515  株式会社すかいらーくホールディングス       IFRS\n",
       "E00981        そーせいグループ株式会社       IFRS\n",
       "E01593            株式会社アイシン       IFRS\n",
       "...                    ...        ...\n",
       "E04830            ＳＣＳＫ株式会社       IFRS\n",
       "E02152          株式会社ＳＵＢＡＲＵ       IFRS\n",
       "E01678             ＴＨＫ株式会社       IFRS\n",
       "E02889      ＶＴホールディングス株式会社       IFRS\n",
       "E05000       Ｚホールディングス株式会社       IFRS\n",
       "\n",
       "[228 rows x 2 columns]"
      ]
     },
     "execution_count": 34,
     "metadata": {},
     "output_type": "execute_result"
    }
   ],
   "source": [
    "df_accounting[df_accounting[\"accounting\"] == \"IFRS\"]"
   ]
  },
  {
   "cell_type": "code",
   "execution_count": 32,
   "metadata": {},
   "outputs": [
    {
     "data": {
      "text/html": [
       "<div>\n",
       "<style scoped>\n",
       "    .dataframe tbody tr th:only-of-type {\n",
       "        vertical-align: middle;\n",
       "    }\n",
       "\n",
       "    .dataframe tbody tr th {\n",
       "        vertical-align: top;\n",
       "    }\n",
       "\n",
       "    .dataframe thead th {\n",
       "        text-align: right;\n",
       "    }\n",
       "</style>\n",
       "<table border=\"1\" class=\"dataframe\">\n",
       "  <thead>\n",
       "    <tr style=\"text-align: right;\">\n",
       "      <th></th>\n",
       "      <th>company_name</th>\n",
       "      <th>accounting</th>\n",
       "    </tr>\n",
       "  </thead>\n",
       "  <tbody>\n",
       "    <tr>\n",
       "      <th>E01755</th>\n",
       "      <td>オムロン株式会社</td>\n",
       "      <td>US GAAP</td>\n",
       "    </tr>\n",
       "    <tr>\n",
       "      <th>E04762</th>\n",
       "      <td>オリックス株式会社</td>\n",
       "      <td>US GAAP</td>\n",
       "    </tr>\n",
       "    <tr>\n",
       "      <th>E02274</th>\n",
       "      <td>キヤノン株式会社</td>\n",
       "      <td>US GAAP</td>\n",
       "    </tr>\n",
       "    <tr>\n",
       "      <th>E01777</th>\n",
       "      <td>ソニーグループ株式会社</td>\n",
       "      <td>US GAAP</td>\n",
       "    </tr>\n",
       "    <tr>\n",
       "      <th>E00590</th>\n",
       "      <td>株式会社ワコールホールディングス</td>\n",
       "      <td>US GAAP</td>\n",
       "    </tr>\n",
       "    <tr>\n",
       "      <th>E00988</th>\n",
       "      <td>富士フイルムホールディングス株式会社</td>\n",
       "      <td>US GAAP</td>\n",
       "    </tr>\n",
       "    <tr>\n",
       "      <th>E01532</th>\n",
       "      <td>株式会社小松製作所</td>\n",
       "      <td>US GAAP</td>\n",
       "    </tr>\n",
       "    <tr>\n",
       "      <th>E01914</th>\n",
       "      <td>株式会社村田製作所</td>\n",
       "      <td>US GAAP</td>\n",
       "    </tr>\n",
       "    <tr>\n",
       "      <th>E01738</th>\n",
       "      <td>株式会社　東芝</td>\n",
       "      <td>US GAAP</td>\n",
       "    </tr>\n",
       "    <tr>\n",
       "      <th>E03752</th>\n",
       "      <td>野村ホールディングス株式会社</td>\n",
       "      <td>US GAAP</td>\n",
       "    </tr>\n",
       "    <tr>\n",
       "      <th>E01780</th>\n",
       "      <td>ＴＤＫ株式会社</td>\n",
       "      <td>US GAAP</td>\n",
       "    </tr>\n",
       "  </tbody>\n",
       "</table>\n",
       "</div>"
      ],
      "text/plain": [
       "              company_name accounting\n",
       "E01755            オムロン株式会社    US GAAP\n",
       "E04762           オリックス株式会社    US GAAP\n",
       "E02274            キヤノン株式会社    US GAAP\n",
       "E01777         ソニーグループ株式会社    US GAAP\n",
       "E00590    株式会社ワコールホールディングス    US GAAP\n",
       "E00988  富士フイルムホールディングス株式会社    US GAAP\n",
       "E01532           株式会社小松製作所    US GAAP\n",
       "E01914           株式会社村田製作所    US GAAP\n",
       "E01738             株式会社　東芝    US GAAP\n",
       "E03752      野村ホールディングス株式会社    US GAAP\n",
       "E01780             ＴＤＫ株式会社    US GAAP"
      ]
     },
     "execution_count": 32,
     "metadata": {},
     "output_type": "execute_result"
    }
   ],
   "source": [
    "df_accounting[df_accounting[\"accounting\"] == \"US GAAP\"]"
   ]
  },
  {
   "cell_type": "code",
   "execution_count": null,
   "metadata": {},
   "outputs": [],
   "source": []
  },
  {
   "cell_type": "code",
   "execution_count": null,
   "metadata": {},
   "outputs": [],
   "source": []
  },
  {
   "cell_type": "code",
   "execution_count": 79,
   "metadata": {},
   "outputs": [],
   "source": [
    "code = \"E03439\"\n",
    "\n",
    "df_idx = all_df_dic[\"有価証券報告書\"][code]\n",
    "df_idx = df_idx[df_idx[\"提出日\"] == max(df_idx[\"提出日\"].unique())]\n",
    "\n",
    "df_idx.to_excel(\"temp_\" + code + \".xlsx\")\n"
   ]
  },
  {
   "attachments": {},
   "cell_type": "markdown",
   "metadata": {},
   "source": [
    "トヨタ(IFRS)\n",
    "親会社の所有者に帰属する持分合計\n",
    "EquityAttributableToOwnersOfParentIFRSSummaryOfBusinessResults\n",
    "CurrentYearInstant\n",
    "資産合計\n",
    "TotalAssetsIFRSSummaryOfBusinessResults\n",
    "営業収益合計\n",
    "OperatingRevenuesIFRSKeyFinancialData\n",
    "当期利益の帰属(親会社の所有者)\n",
    "ProfitLossAttributableToOwnersOfParentIFRSSummaryOfBusinessResults"
   ]
  },
  {
   "attachments": {},
   "cell_type": "markdown",
   "metadata": {},
   "source": [
    "ZOZO(Japan GAAP)\n",
    "株主資本合計\n",
    "ShareholdersEquity\n",
    "純資産合計\n",
    "NetAssets\n",
    "新株予約券\n",
    "SubscriptionRightsToShares\n",
    "被支配株主持ち分\n",
    "NonControllingInterests"
   ]
  },
  {
   "cell_type": "code",
   "execution_count": null,
   "metadata": {},
   "outputs": [],
   "source": [
    "ソニーグループ株式会社(US GAAP)\n",
    "資本合計\n",
    "EquityIncludingPortionAttributableToNonControllingInterestUSGAAPSummaryOfBusinessResults\n",
    "\n"
   ]
  },
  {
   "cell_type": "markdown",
   "metadata": {},
   "source": [
    "# Japan GAAP"
   ]
  },
  {
   "cell_type": "code",
   "execution_count": 106,
   "metadata": {},
   "outputs": [
    {
     "name": "stdout",
     "output_type": "stream",
     "text": [
      "3460\r"
     ]
    }
   ],
   "source": [
    "def get_unique_element(df, col_name):\n",
    "    df_focus = df[df[\"tag\"] == col_name]\n",
    "    val_return = np.nan\n",
    "    if \"CurrentYearInstant\" in df_focus[\"context\"].values:\n",
    "        val_return = df_focus[df_focus[\"context\"] == \"CurrentYearInstant\"][\"値\"].values[0]\n",
    "    elif \"CurrentYearInstant_NonConsolidatedMember\" in df_focus[\"context\"].values:\n",
    "        val_return = df_focus[df_focus[\"context\"] == \"CurrentYearInstant_NonConsolidatedMember\"][\"値\"].values[0]\n",
    "    return val_return\n",
    "\n",
    "col_JGAAP = [\"ShareholdersEquity\", \"NetAssets\", \"SubscriptionRightsToShares\", \"NonControllingInterests\"]\n",
    "df_JGAAP = pd.DataFrame(index = df_accounting[df_accounting[\"accounting\"] == \"Japan GAAP\"].index, columns = col_JGAAP)\n",
    "\n",
    "for idx, code in enumerate(df_JGAAP.index):\n",
    "    if idx % 10 == 0:\n",
    "        print(idx, end = \"\\r\")\n",
    "    df_idx = all_df_dic[\"有価証券報告書\"][code]\n",
    "    df_idx = df_idx[df_idx[\"提出日\"] == max(df_idx[\"提出日\"].unique())]\n",
    "    for col in col_JGAAP:\n",
    "        element = get_unique_element(df_idx, col)\n",
    "        df_JGAAP.at[code, col] = element"
   ]
  },
  {
   "cell_type": "code",
   "execution_count": 108,
   "metadata": {},
   "outputs": [
    {
     "data": {
      "text/plain": [
       "ShareholdersEquity               0\n",
       "NetAssets                        0\n",
       "SubscriptionRightsToShares    2436\n",
       "NonControllingInterests       1770\n",
       "dtype: int64"
      ]
     },
     "execution_count": 108,
     "metadata": {},
     "output_type": "execute_result"
    }
   ],
   "source": [
    "df_JGAAP.isnull().sum()"
   ]
  },
  {
   "cell_type": "code",
   "execution_count": 101,
   "metadata": {},
   "outputs": [
    {
     "name": "stdout",
     "output_type": "stream",
     "text": [
      "3460\r"
     ]
    }
   ],
   "source": [
    "df_num_elem = pd.DataFrame(index = df_accounting[df_accounting[\"accounting\"] == \"Japan GAAP\"].index, columns = col_JGAAP)\n",
    "dict_context = dict(zip(col_JGAAP, [[] for _ in range(len(col_JGAAP))]))\n",
    "\n",
    "for idx, code in enumerate(df_num_elem.index):\n",
    "    if idx % 10 == 0:\n",
    "        print(idx, end = \"\\r\")\n",
    "    df_idx = all_df_dic[\"有価証券報告書\"][code]\n",
    "    df_idx = df_idx[df_idx[\"提出日\"] == max(df_idx[\"提出日\"].unique())]\n",
    "    df_idx = df_idx[df_idx[\"context\"].str.contains(\"CurrentYearInstant\")]\n",
    "    for col in col_JGAAP:\n",
    "        context_list = df_idx[df_idx[\"tag\"] == col][\"context\"].values\n",
    "        df_num_elem.at[code, col] = len(df_idx[df_idx[\"tag\"] == col])\n",
    "        if col == \"NetAssets\":\n",
    "            df_idx_netassets = df_idx[(df_idx[\"context\"] == \"CurrentYearInstant\")|(df_idx[\"context\"] == \"CurrentYearInstant_NonConsolidatedMember\")]\n",
    "            df_num_elem.at[code, col] = len(df_idx_netassets[df_idx_netassets[\"tag\"] == col])\n",
    "        if len(context_list) != 0:\n",
    "            dict_context[col].extend(context_list)"
   ]
  },
  {
   "cell_type": "markdown",
   "metadata": {},
   "source": [
    "# IFRS"
   ]
  },
  {
   "cell_type": "code",
   "execution_count": 111,
   "metadata": {},
   "outputs": [
    {
     "name": "stdout",
     "output_type": "stream",
     "text": [
      "220\r"
     ]
    }
   ],
   "source": [
    "df_num_elem = pd.DataFrame(index = df_accounting[df_accounting[\"accounting\"] == \"IFRS\"].index, columns = col_IFRS)\n",
    "dict_context = dict(zip(col_IFRS, [[] for _ in range(len(col_IFRS))]))\n",
    "\n",
    "for idx, code in enumerate(df_num_elem.index):\n",
    "    if idx % 10 == 0:\n",
    "        print(idx, end = \"\\r\")\n",
    "    df_idx = all_df_dic[\"有価証券報告書\"][code]\n",
    "    df_idx = df_idx[df_idx[\"提出日\"] == max(df_idx[\"提出日\"].unique())]\n",
    "    df_idx = df_idx[df_idx[\"context\"].str.contains(\"CurrentYearInstant\")]\n",
    "    for col in col_IFRS:\n",
    "        context_list = df_idx[df_idx[\"tag\"] == col][\"context\"].values\n",
    "        df_num_elem.at[code, col] = len(df_idx[df_idx[\"tag\"] == col])\n",
    "        if len(context_list) != 0:\n",
    "            dict_context[col].extend(context_list)\n",
    "\n",
    "for key in dict_context.keys():\n",
    "    dict_context[key] = list(set(dict_context[key]))"
   ]
  },
  {
   "cell_type": "code",
   "execution_count": 112,
   "metadata": {},
   "outputs": [
    {
     "data": {
      "text/plain": [
       "{'EquityAttributableToOwnersOfParentIFRSSummaryOfBusinessResults': ['CurrentYearInstant']}"
      ]
     },
     "execution_count": 112,
     "metadata": {},
     "output_type": "execute_result"
    }
   ],
   "source": [
    "dict_context"
   ]
  },
  {
   "cell_type": "markdown",
   "metadata": {},
   "source": [
    "# US GAAP"
   ]
  },
  {
   "cell_type": "code",
   "execution_count": 113,
   "metadata": {},
   "outputs": [
    {
     "name": "stdout",
     "output_type": "stream",
     "text": [
      "0\r",
      "10\r"
     ]
    }
   ],
   "source": [
    "df_num_elem = pd.DataFrame(index = df_accounting[df_accounting[\"accounting\"] == \"US GAAP\"].index, columns = col_USGAAP)\n",
    "dict_context = dict(zip(col_USGAAP, [[] for _ in range(len(col_USGAAP))]))\n",
    "\n",
    "for idx, code in enumerate(df_num_elem.index):\n",
    "    if idx % 10 == 0:\n",
    "        print(idx, end = \"\\r\")\n",
    "    df_idx = all_df_dic[\"有価証券報告書\"][code]\n",
    "    df_idx = df_idx[df_idx[\"提出日\"] == max(df_idx[\"提出日\"].unique())]\n",
    "    df_idx = df_idx[df_idx[\"context\"].str.contains(\"CurrentYearInstant\")]\n",
    "    for col in col_USGAAP:\n",
    "        context_list = df_idx[df_idx[\"tag\"] == col][\"context\"].values\n",
    "        df_num_elem.at[code, col] = len(df_idx[df_idx[\"tag\"] == col])\n",
    "        if len(context_list) != 0:\n",
    "            dict_context[col].extend(context_list)\n",
    "\n",
    "for key in dict_context.keys():\n",
    "    dict_context[key] = list(set(dict_context[key]))"
   ]
  },
  {
   "cell_type": "code",
   "execution_count": 114,
   "metadata": {},
   "outputs": [
    {
     "data": {
      "text/plain": [
       "{'EquityIncludingPortionAttributableToNonControllingInterestUSGAAPSummaryOfBusinessResults': ['CurrentYearInstant']}"
      ]
     },
     "execution_count": 114,
     "metadata": {},
     "output_type": "execute_result"
    }
   ],
   "source": [
    "dict_context"
   ]
  },
  {
   "cell_type": "code",
   "execution_count": null,
   "metadata": {},
   "outputs": [],
   "source": []
  }
 ],
 "metadata": {
  "kernelspec": {
   "display_name": "Python 3",
   "language": "python",
   "name": "python3"
  },
  "language_info": {
   "codemirror_mode": {
    "name": "ipython",
    "version": 3
   },
   "file_extension": ".py",
   "mimetype": "text/x-python",
   "name": "python",
   "nbconvert_exporter": "python",
   "pygments_lexer": "ipython3",
   "version": "3.8.5"
  }
 },
 "nbformat": 4,
 "nbformat_minor": 4
}
